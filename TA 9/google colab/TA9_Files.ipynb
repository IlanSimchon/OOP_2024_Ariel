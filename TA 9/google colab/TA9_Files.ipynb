{
 "cells": [
  {
   "cell_type": "markdown",
   "metadata": {
    "id": "LXhGvGB2ZD7f"
   },
   "source": [
    "**Creat new file**"
   ]
  },
  {
   "cell_type": "code",
   "execution_count": 48,
   "metadata": {
    "id": "8yIBB_L2YeYZ"
   },
   "outputs": [],
   "source": [
    "# Creating a new file in write mode\n",
    "with open(\"new_file.txt\", \"w\") as file:\n",
    "    file.write(\"This is a new file created by Python!\\n\")"
   ]
  },
  {
   "cell_type": "code",
   "execution_count": 32,
   "metadata": {
    "colab": {
     "base_uri": "https://localhost:8080/",
     "height": 211
    },
    "id": "x1hkozHQYk3M",
    "outputId": "34e48a9e-e93e-4cdc-bef1-044827a4821a"
   },
   "outputs": [
    {
     "ename": "FileExistsError",
     "evalue": "[Errno 17] File exists: 'new_file.txt'",
     "output_type": "error",
     "traceback": [
      "\u001b[0;31m---------------------------------------------------------------------------\u001b[0m",
      "\u001b[0;31mFileExistsError\u001b[0m                           Traceback (most recent call last)",
      "\u001b[0;32m<ipython-input-32-d480b1064b70>\u001b[0m in \u001b[0;36m<cell line: 2>\u001b[0;34m()\u001b[0m\n\u001b[1;32m      1\u001b[0m \u001b[0;31m# Creating a new file only if it doesn't exist\u001b[0m\u001b[0;34m\u001b[0m\u001b[0;34m\u001b[0m\u001b[0m\n\u001b[0;32m----> 2\u001b[0;31m \u001b[0;32mwith\u001b[0m \u001b[0mopen\u001b[0m\u001b[0;34m(\u001b[0m\u001b[0;34m\"new_file.txt\"\u001b[0m\u001b[0;34m,\u001b[0m \u001b[0;34m\"x\"\u001b[0m\u001b[0;34m)\u001b[0m \u001b[0;32mas\u001b[0m \u001b[0mfile\u001b[0m\u001b[0;34m:\u001b[0m\u001b[0;34m\u001b[0m\u001b[0;34m\u001b[0m\u001b[0m\n\u001b[0m\u001b[1;32m      3\u001b[0m     \u001b[0mfile\u001b[0m\u001b[0;34m.\u001b[0m\u001b[0mwrite\u001b[0m\u001b[0;34m(\u001b[0m\u001b[0;34m\"This is a new file created by Python!\\n\"\u001b[0m\u001b[0;34m)\u001b[0m\u001b[0;34m\u001b[0m\u001b[0;34m\u001b[0m\u001b[0m\n\u001b[1;32m      4\u001b[0m \u001b[0;34m\u001b[0m\u001b[0m\n\u001b[1;32m      5\u001b[0m \u001b[0;34m\u001b[0m\u001b[0m\n",
      "\u001b[0;31mFileExistsError\u001b[0m: [Errno 17] File exists: 'new_file.txt'"
     ]
    }
   ],
   "source": [
    "# Creating a new file only if it doesn't exist\n",
    "with open(\"new_file.txt\", \"x\") as file:\n",
    "    file.write(\"This is a new file created by Python!\\n\")\n",
    "\n",
    "\n",
    "# NOTE:\n",
    "#       This mode is used to create a new file, but if the file already exists, it will raise a FileExistsError.\n",
    "#       So, if \"new_file.txt\" does not exist, it will be created, and you'll be able to write to it."
   ]
  },
  {
   "cell_type": "markdown",
   "metadata": {
    "id": "b3ifo3ezZNOE"
   },
   "source": [
    "**Open exist file**"
   ]
  },
  {
   "cell_type": "code",
   "execution_count": 28,
   "metadata": {
    "id": "UPM7gzz1ZL-V"
   },
   "outputs": [],
   "source": [
    "# Opening a file in read mode\n",
    "file = open(\"new_file.txt\", \"r\")\n",
    "\n",
    "# Opening a file in write mode\n",
    "file = open(\"new_file.txt\", \"w\")\n",
    "\n",
    "# Opening a file in append mode\n",
    "file = open(\"new_file.txt\", \"a\")\n",
    "\n",
    "\n",
    "# NOTE:\n",
    "#       Each call to open() will close the file opened by the previous call and open it again with the new mode.\n",
    "#       In this case, the file will be open on mode 'a'."
   ]
  },
  {
   "cell_type": "markdown",
   "metadata": {
    "id": "8ULyoK2nbmfj"
   },
   "source": [
    "For multiple purposes, you can use:\n",
    "* \"r+\" for read/write mode\n",
    "* \"a+\" for append/read mode.\n"
   ]
  },
  {
   "cell_type": "code",
   "execution_count": 49,
   "metadata": {
    "id": "DflJ9fEZa_0H"
   },
   "outputs": [],
   "source": [
    "# Opening a file in read/write mode\n",
    "file = open(\"new_file.txt\", \"r+\")\n",
    "\n",
    "# # Opening a file in append/read mode\n",
    "# file = open(\"new_file.txt\", \"a+\")"
   ]
  },
  {
   "cell_type": "markdown",
   "metadata": {
    "id": "za9NjMPZZWSu"
   },
   "source": [
    "**Reading from an 'open' File**"
   ]
  },
  {
   "cell_type": "code",
   "execution_count": 50,
   "metadata": {
    "id": "glQBchFDZezn"
   },
   "outputs": [],
   "source": [
    "# Reading the entire file\n",
    "content = file.read()\n",
    "\n",
    "# Reading a single line\n",
    "line = file.readline()\n",
    "\n",
    "# Reading all lines into a list\n",
    "lines = file.readlines()"
   ]
  },
  {
   "cell_type": "code",
   "execution_count": 51,
   "metadata": {
    "colab": {
     "base_uri": "https://localhost:8080/",
     "height": 0
    },
    "id": "mazRjZuyb-yr",
    "outputId": "e3114d14-4196-4d76-b0ea-9ac9a2a47eeb"
   },
   "outputs": [
    {
     "name": "stdout",
     "output_type": "stream",
     "text": [
      "This is a new file created by Python!\n",
      "\n"
     ]
    }
   ],
   "source": [
    "print(content)"
   ]
  },
  {
   "cell_type": "markdown",
   "metadata": {
    "id": "HjEtmTWwZh0q"
   },
   "source": [
    "**Wright to exist file**"
   ]
  },
  {
   "cell_type": "code",
   "execution_count": null,
   "metadata": {
    "id": "ncqCYCz6ZqXG"
   },
   "outputs": [],
   "source": [
    "file.write(\"Hello, World!\\n\")"
   ]
  },
  {
   "cell_type": "markdown",
   "metadata": {
    "id": "dE1XHzYsZtZd"
   },
   "source": [
    "**Close file**"
   ]
  },
  {
   "cell_type": "code",
   "execution_count": 27,
   "metadata": {
    "id": "haQhZ-5FZtEc"
   },
   "outputs": [],
   "source": [
    "file.close()"
   ]
  },
  {
   "cell_type": "markdown",
   "metadata": {
    "id": "BHndodVIZ4fg"
   },
   "source": [
    "**'With' block**"
   ]
  },
  {
   "cell_type": "code",
   "execution_count": 53,
   "metadata": {
    "colab": {
     "base_uri": "https://localhost:8080/",
     "height": 0
    },
    "id": "nzNFUF6ZZ8EX",
    "outputId": "00758674-dc41-4f14-d605-36291500d4da"
   },
   "outputs": [
    {
     "name": "stdout",
     "output_type": "stream",
     "text": [
      "This is a new file created by Python!\n",
      "\n"
     ]
    }
   ],
   "source": [
    "with open(\"new_file.txt\", \"r\") as file:\n",
    "    content = file.read()\n",
    "    print(content)     # Do something with the content\n",
    "\n",
    "# File is automatically closed when exiting the 'with' block"
   ]
  },
  {
   "cell_type": "markdown",
   "metadata": {
    "id": "DFutKZIOg2by"
   },
   "source": [
    "# **Examples**"
   ]
  },
  {
   "cell_type": "code",
   "execution_count": 60,
   "metadata": {
    "colab": {
     "base_uri": "https://localhost:8080/",
     "height": 0
    },
    "id": "95_LWEwlev0W",
    "outputId": "16aba30d-b41b-492d-9022-e65a740c518c"
   },
   "outputs": [
    {
     "name": "stdout",
     "output_type": "stream",
     "text": [
      "Hello World!\n",
      "\n"
     ]
    }
   ],
   "source": [
    "# Example 1\n",
    "\n",
    "with open(\"Example.txt\", \"w\") as file:\n",
    "    file.write(\"Hello World!\\n\")\n",
    "\n",
    "file = open(\"Example.txt\", \"r\")\n",
    "content = file.read()\n",
    "print(content)\n",
    "\n",
    "file.close()"
   ]
  },
  {
   "cell_type": "code",
   "execution_count": 61,
   "metadata": {
    "colab": {
     "base_uri": "https://localhost:8080/",
     "height": 0
    },
    "id": "_Mh9SQbQfDfW",
    "outputId": "37025325-d0ed-4868-e93e-c14dc70b1843"
   },
   "outputs": [
    {
     "name": "stdout",
     "output_type": "stream",
     "text": [
      "Hello World!\n",
      "Adding information\n",
      "\n"
     ]
    }
   ],
   "source": [
    "# Example 2:\n",
    "\n",
    "file = open(\"Example.txt\", \"a\")\n",
    "file.write(\"Adding information\\n\")\n",
    "# file.close()\n",
    "\n",
    "file = open(\"Example.txt\", \"r\")\n",
    "content = file.read()\n",
    "print(content)\n",
    "\n",
    "file.close()"
   ]
  },
  {
   "cell_type": "code",
   "execution_count": 62,
   "metadata": {
    "colab": {
     "base_uri": "https://localhost:8080/",
     "height": 0
    },
    "id": "aWwHpc-YgKfJ",
    "outputId": "e5eb154a-6fd0-41bd-b41f-c8524d09a631"
   },
   "outputs": [
    {
     "name": "stdout",
     "output_type": "stream",
     "text": [
      "Run Over information\n",
      "\n"
     ]
    }
   ],
   "source": [
    "# Example 3\n",
    "\n",
    "file = open(\"Example.txt\", \"w\")\n",
    "file.write(\"Run Over information\\n\")\n",
    "# file.close()\n",
    "\n",
    "file = open(\"Example.txt\", \"r\")\n",
    "content = file.read()\n",
    "print(content)\n",
    "\n",
    "file.close()"
   ]
  },
  {
   "cell_type": "code",
   "execution_count": null,
   "metadata": {
    "id": "wIZo5NaIhSRE"
   },
   "outputs": [],
   "source": []
  }
 ],
 "metadata": {
  "colab": {
   "provenance": []
  },
  "kernelspec": {
   "display_name": "Python 3 (ipykernel)",
   "language": "python",
   "name": "python3"
  },
  "language_info": {
   "codemirror_mode": {
    "name": "ipython",
    "version": 3
   },
   "file_extension": ".py",
   "mimetype": "text/x-python",
   "name": "python",
   "nbconvert_exporter": "python",
   "pygments_lexer": "ipython3",
   "version": "3.12.3"
  }
 },
 "nbformat": 4,
 "nbformat_minor": 4
}
