{
 "cells": [
  {
   "cell_type": "code",
   "execution_count": 1,
   "metadata": {
    "id": "TXAJnXGtTWht"
   },
   "outputs": [
    {
     "ename": "FileNotFoundError",
     "evalue": "[Errno 2] No such file or directory: 'old_name.txt' -> 'new_name.txt'",
     "output_type": "error",
     "traceback": [
      "\u001b[0;31m---------------------------------------------------------------------------\u001b[0m",
      "\u001b[0;31mFileNotFoundError\u001b[0m                         Traceback (most recent call last)",
      "Cell \u001b[0;32mIn[1], line 13\u001b[0m\n\u001b[1;32m     10\u001b[0m os\u001b[38;5;241m.\u001b[39mmkdir(\u001b[38;5;124m\"\u001b[39m\u001b[38;5;124mnew_directory\u001b[39m\u001b[38;5;124m\"\u001b[39m)  \u001b[38;5;66;03m# Task: File and Directory Operations\u001b[39;00m\n\u001b[1;32m     12\u001b[0m \u001b[38;5;66;03m# Rename a file or directory\u001b[39;00m\n\u001b[0;32m---> 13\u001b[0m \u001b[43mos\u001b[49m\u001b[38;5;241;43m.\u001b[39;49m\u001b[43mrename\u001b[49m\u001b[43m(\u001b[49m\u001b[38;5;124;43m\"\u001b[39;49m\u001b[38;5;124;43mold_name.txt\u001b[39;49m\u001b[38;5;124;43m\"\u001b[39;49m\u001b[43m,\u001b[49m\u001b[43m \u001b[49m\u001b[38;5;124;43m\"\u001b[39;49m\u001b[38;5;124;43mnew_name.txt\u001b[39;49m\u001b[38;5;124;43m\"\u001b[39;49m\u001b[43m)\u001b[49m  \u001b[38;5;66;03m# Task: File and Directory Operations\u001b[39;00m\n\u001b[1;32m     15\u001b[0m \u001b[38;5;66;03m# Delete a file\u001b[39;00m\n\u001b[1;32m     16\u001b[0m os\u001b[38;5;241m.\u001b[39mremove(\u001b[38;5;124m\"\u001b[39m\u001b[38;5;124mfile_to_delete.txt\u001b[39m\u001b[38;5;124m\"\u001b[39m)  \u001b[38;5;66;03m# Task: File and Directory Operations\u001b[39;00m\n",
      "\u001b[0;31mFileNotFoundError\u001b[0m: [Errno 2] No such file or directory: 'old_name.txt' -> 'new_name.txt'"
     ]
    }
   ],
   "source": [
    "import os  # Importing the os module\n",
    "\n",
    "# Get the current working directory\n",
    "current_directory = os.getcwd()  # Task: File and Directory Operations\n",
    "\n",
    "# List files and directories in a directory\n",
    "files_and_directories = os.listdir(current_directory)  # Task: File and Directory Operations\n",
    "\n",
    "# Create a new directory\n",
    "os.mkdir(\"new_directory\")  # Task: File and Directory Operations\n",
    "\n",
    "# Rename a file or directory\n",
    "os.rename(\"old_name.txt\", \"new_name.txt\")  # Task: File and Directory Operations\n",
    "\n",
    "# Delete a file\n",
    "os.remove(\"file_to_delete.txt\")  # Task: File and Directory Operations\n",
    "\n",
    "# Check if a file exists\n",
    "if os.path.exists(\"file.txt\"):  # Task: File and Directory Operations\n",
    "    print(\"File exists\")\n",
    "else:\n",
    "    print(\"File does not exist\")\n",
    "\n",
    "# Execute a shell command\n",
    "os.system(\"ls\")  # Task: Process Management\n",
    "\n",
    "# Get the value of an environment variable\n",
    "python_path = os.getenv(\"PYTHONPATH\")  # Task: Environment Variables\n",
    "\n",
    "# Get platform information\n",
    "platform_name = os.name  # Task: Platform Information\n",
    "path_separator = os.path.sep  # Task: Platform Information"
   ]
  },
  {
   "cell_type": "code",
   "execution_count": null,
   "metadata": {},
   "outputs": [],
   "source": []
  }
 ],
 "metadata": {
  "colab": {
   "provenance": []
  },
  "kernelspec": {
   "display_name": "Python 3 (ipykernel)",
   "language": "python",
   "name": "python3"
  },
  "language_info": {
   "codemirror_mode": {
    "name": "ipython",
    "version": 3
   },
   "file_extension": ".py",
   "mimetype": "text/x-python",
   "name": "python",
   "nbconvert_exporter": "python",
   "pygments_lexer": "ipython3",
   "version": "3.12.3"
  }
 },
 "nbformat": 4,
 "nbformat_minor": 4
}
