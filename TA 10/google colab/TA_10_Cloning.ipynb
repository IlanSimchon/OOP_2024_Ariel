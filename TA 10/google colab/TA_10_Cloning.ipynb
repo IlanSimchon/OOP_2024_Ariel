{
 "cells": [
  {
   "cell_type": "code",
   "execution_count": 2,
   "metadata": {
    "id": "QD37Q4_quyyX"
   },
   "outputs": [],
   "source": [
    "import copy"
   ]
  },
  {
   "cell_type": "markdown",
   "metadata": {
    "id": "ahBlIHzNZvtz"
   },
   "source": [
    "## Shallow Cloning Example:\n",
    "\n",
    "In this shallow cloning example, we create a shallow copy of the ```people``` list using ```copy.copy()```.\n",
    "\n",
    "When we modify the age of the first person in the cloned list, it affects the original list as well because both lists share references to the same person dictionaries.\n",
    "\n",
    "\n",
    "\n",
    "\n",
    "\n",
    "\n"
   ]
  },
  {
   "cell_type": "code",
   "execution_count": 3,
   "metadata": {
    "colab": {
     "base_uri": "https://localhost:8080/"
    },
    "id": "3affm-13ZttP",
    "outputId": "66864097-48ca-4004-b7a4-7b9acc51c35e"
   },
   "outputs": [
    {
     "name": "stdout",
     "output_type": "stream",
     "text": [
      "Original List:\n",
      "[{'name': 'Alice', 'age': 40}, {'name': 'Bob', 'age': 25}, {'name': 'Charlie', 'age': 35}]\n",
      "\n",
      "Cloned List:\n",
      "[{'name': 'Alice', 'age': 40}, {'name': 'Bob', 'age': 25}, {'name': 'Charlie', 'age': 35}]\n"
     ]
    }
   ],
   "source": [
    "# Original list of people\n",
    "people = [\n",
    "    {\"name\": \"Alice\", \"age\": 30},\n",
    "    {\"name\": \"Bob\", \"age\": 25},\n",
    "    {\"name\": \"Charlie\", \"age\": 35}\n",
    "]\n",
    "\n",
    "# Shallow clone of the list\n",
    "people_clone = copy.copy(people)\n",
    "\n",
    "# Modify the age of the first person in the cloned list\n",
    "people_clone[0][\"age\"] = 40\n",
    "\n",
    "# Print both lists\n",
    "print(\"Original List:\")\n",
    "print(people)\n",
    "\n",
    "print(\"\\nCloned List:\")\n",
    "print(people_clone)"
   ]
  },
  {
   "cell_type": "markdown",
   "metadata": {
    "id": "JJPUUmrXaIXb"
   },
   "source": [
    "## Deep Cloning Example:\n",
    "\n",
    "In this deep cloning example, we create a deep copy of the ```people``` list using ```copy.deepcopy()```.\n",
    "\n",
    "When we modify the age of the first person in the cloned list, it does not affect the original list because the nested dictionaries are also cloned recursively, ensuring that both lists are entirely independent of each other.\n",
    "\n",
    "\n"
   ]
  },
  {
   "cell_type": "code",
   "execution_count": 4,
   "metadata": {
    "colab": {
     "base_uri": "https://localhost:8080/"
    },
    "id": "sedHRmgTaELz",
    "outputId": "603e51f2-6679-452b-ffd3-752488850438"
   },
   "outputs": [
    {
     "name": "stdout",
     "output_type": "stream",
     "text": [
      "Original List:\n",
      "[{'name': 'Alice', 'age': 30}, {'name': 'Bob', 'age': 25}, {'name': 'Charlie', 'age': 35}]\n",
      "\n",
      "Cloned List:\n",
      "[{'name': 'Alice', 'age': 40}, {'name': 'Bob', 'age': 25}, {'name': 'Charlie', 'age': 35}]\n"
     ]
    }
   ],
   "source": [
    "# Original list of people\n",
    "people = [\n",
    "    {\"name\": \"Alice\", \"age\": 30},\n",
    "    {\"name\": \"Bob\", \"age\": 25},\n",
    "    {\"name\": \"Charlie\", \"age\": 35}\n",
    "]\n",
    "\n",
    "# Deep clone of the list\n",
    "people_clone = copy.deepcopy(people)\n",
    "\n",
    "# Modify the age of the first person in the cloned list\n",
    "people_clone[0][\"age\"] = 40\n",
    "\n",
    "# Print both lists\n",
    "print(\"Original List:\")\n",
    "print(people)\n",
    "\n",
    "print(\"\\nCloned List:\")\n",
    "print(people_clone)"
   ]
  },
  {
   "cell_type": "code",
   "execution_count": null,
   "metadata": {
    "id": "dnV8qkGQu4-v"
   },
   "outputs": [],
   "source": []
  }
 ],
 "metadata": {
  "colab": {
   "provenance": []
  },
  "kernelspec": {
   "display_name": "Python 3 (ipykernel)",
   "language": "python",
   "name": "python3"
  },
  "language_info": {
   "codemirror_mode": {
    "name": "ipython",
    "version": 3
   },
   "file_extension": ".py",
   "mimetype": "text/x-python",
   "name": "python",
   "nbconvert_exporter": "python",
   "pygments_lexer": "ipython3",
   "version": "3.12.3"
  }
 },
 "nbformat": 4,
 "nbformat_minor": 4
}
