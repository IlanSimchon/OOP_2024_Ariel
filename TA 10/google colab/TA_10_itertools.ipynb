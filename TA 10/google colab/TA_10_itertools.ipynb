{
 "cells": [
  {
   "cell_type": "code",
   "execution_count": 2,
   "metadata": {
    "id": "r6Ktv-3Ppwor"
   },
   "outputs": [],
   "source": [
    "import itertools"
   ]
  },
  {
   "cell_type": "markdown",
   "metadata": {
    "id": "ahBlIHzNZvtz"
   },
   "source": [
    "## 1. ```itertools.chain(*iterables)```\n",
    "\n",
    "\n",
    "* Combines multiple iterators into a single iterator by chaining them together.\n",
    "* Useful for iterating over elements from multiple sequences as if they were a single sequence.\n",
    "\n",
    "\n",
    "\n",
    "\n"
   ]
  },
  {
   "cell_type": "code",
   "execution_count": 3,
   "metadata": {
    "colab": {
     "base_uri": "https://localhost:8080/"
    },
    "id": "3affm-13ZttP",
    "outputId": "83caee6c-8130-42db-fc43-a180e48abd61"
   },
   "outputs": [
    {
     "name": "stdout",
     "output_type": "stream",
     "text": [
      "1\n",
      "2\n",
      "3\n",
      "4\n",
      "5\n",
      "6\n"
     ]
    }
   ],
   "source": [
    "data1 = [1, 2, 3]\n",
    "data2 = [4, 5, 6]\n",
    "\n",
    "combined_iter = itertools.chain(data1, data2)\n",
    "\n",
    "for item in combined_iter:\n",
    "    print(item)\n",
    "\n",
    "\n",
    "# Output: 1, 2, 3, 4, 5, 6"
   ]
  },
  {
   "cell_type": "markdown",
   "metadata": {
    "id": "JJPUUmrXaIXb"
   },
   "source": [
    "## 2. ```itertools.cycle(iterable)```\n",
    "\n",
    "\n",
    "* Creates an infinite iterator that cycles through elements of the input iterable.\n",
    "* Useful for creating a loop that repeats infinitely over a sequence of elements.\n",
    "\n",
    "\n"
   ]
  },
  {
   "cell_type": "code",
   "execution_count": 4,
   "metadata": {
    "colab": {
     "base_uri": "https://localhost:8080/"
    },
    "id": "sedHRmgTaELz",
    "outputId": "51ac179d-833c-4696-bef9-cf51441124ef"
   },
   "outputs": [
    {
     "name": "stdout",
     "output_type": "stream",
     "text": [
      "a\n",
      "b\n",
      "c\n",
      "a\n",
      "b\n",
      "c\n"
     ]
    }
   ],
   "source": [
    "count = 0\n",
    "\n",
    "list_abc = ['a', 'b', 'c']\n",
    "\n",
    "for item in itertools.cycle(list_abc):\n",
    "    print(item)\n",
    "    count += 1\n",
    "    if count >= 2*len(list_abc):\n",
    "        break\n",
    "\n",
    "\n",
    "# Output: a, b, c, a, b, c"
   ]
  },
  {
   "cell_type": "markdown",
   "metadata": {
    "id": "Rso6sWAPeOhq"
   },
   "source": [
    "## 3. ```itertools.permutations(iterable, r=None)```\n",
    "\n",
    "\n",
    "* Generates all permutations of the elements in the input iterable.\n",
    "* Optional argument ```r``` specifies the length of permutations, defaulting to the length of the input iterable.\n",
    "\n"
   ]
  },
  {
   "cell_type": "code",
   "execution_count": 5,
   "metadata": {
    "colab": {
     "base_uri": "https://localhost:8080/"
    },
    "id": "ALmAJGekaVmH",
    "outputId": "d3c741a1-fec1-4651-8a1c-edb66468456b"
   },
   "outputs": [
    {
     "name": "stdout",
     "output_type": "stream",
     "text": [
      "('a', 'b')\n",
      "('a', 'c')\n",
      "('b', 'a')\n",
      "('b', 'c')\n",
      "('c', 'a')\n",
      "('c', 'b')\n"
     ]
    }
   ],
   "source": [
    "perms = itertools.permutations('abc', 2)\n",
    "\n",
    "for perm in perms:\n",
    "    print(perm)\n",
    "\n",
    "\n",
    "# Output: ('a', 'b'), ('a', 'c'), ('b', 'a'), ('b', 'c'), ('c', 'a'), ('c', 'b')"
   ]
  },
  {
   "cell_type": "markdown",
   "metadata": {
    "id": "solsIvJSqoTe"
   },
   "source": [
    "## 4. ```itertools.combinations(iterable, r)```\n",
    "\n",
    "* Generates all combinations of the elements in the input iterable of length ```r```.\n",
    "\n"
   ]
  },
  {
   "cell_type": "code",
   "execution_count": 6,
   "metadata": {
    "colab": {
     "base_uri": "https://localhost:8080/"
    },
    "id": "3BaL22cveW03",
    "outputId": "9ada5274-6e00-4ca5-aeca-d757fc9fac0c"
   },
   "outputs": [
    {
     "name": "stdout",
     "output_type": "stream",
     "text": [
      "('a', 'b')\n",
      "('a', 'c')\n",
      "('a', 'd')\n",
      "('b', 'c')\n",
      "('b', 'd')\n",
      "('c', 'd')\n"
     ]
    }
   ],
   "source": [
    "combs = itertools.combinations('abcd', 2)\n",
    "\n",
    "for comb in combs:\n",
    "    print(comb)\n",
    "\n",
    "\n",
    "# Output: ('a', 'b'), ('a', 'c'), ('a', 'd'), ('b', 'c'), ('b', 'd'), ('c', 'd')"
   ]
  },
  {
   "cell_type": "code",
   "execution_count": null,
   "metadata": {
    "id": "oa1W8p6DrEv5"
   },
   "outputs": [],
   "source": []
  }
 ],
 "metadata": {
  "colab": {
   "provenance": []
  },
  "kernelspec": {
   "display_name": "Python 3 (ipykernel)",
   "language": "python",
   "name": "python3"
  },
  "language_info": {
   "codemirror_mode": {
    "name": "ipython",
    "version": 3
   },
   "file_extension": ".py",
   "mimetype": "text/x-python",
   "name": "python",
   "nbconvert_exporter": "python",
   "pygments_lexer": "ipython3",
   "version": "3.12.3"
  }
 },
 "nbformat": 4,
 "nbformat_minor": 4
}
